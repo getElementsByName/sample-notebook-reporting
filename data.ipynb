{
 "cells": [
  {
   "cell_type": "code",
   "execution_count": 7,
   "source": [
    "# tag name: output_data\n",
    "\n",
    "a = {\n",
    "  \"test\": 111\n",
    "}\n",
    "\n",
    "import json\n",
    "print(json.dumps(a))"
   ],
   "outputs": [
    {
     "output_type": "stream",
     "name": "stdout",
     "text": [
      "{\"test\": 111}\n"
     ]
    }
   ],
   "metadata": {
    "tags": [
     "output_data"
    ]
   }
  },
  {
   "cell_type": "code",
   "execution_count": 2,
   "source": [
    "print(\"asdasdsad\")"
   ],
   "outputs": [
    {
     "output_type": "stream",
     "name": "stdout",
     "text": [
      "asdasdsad\n"
     ]
    }
   ],
   "metadata": {}
  }
 ],
 "metadata": {
  "celltoolbar": "Tags",
  "interpreter": {
   "hash": "894e12c5f704d1dc610e309bf31e91cdd988b43a27864e272e716ff74e8f68c9"
  },
  "kernelspec": {
   "display_name": "Python 3 (ipykernel)",
   "language": "python",
   "name": "python3"
  },
  "language_info": {
   "codemirror_mode": {
    "name": "ipython",
    "version": 3
   },
   "file_extension": ".py",
   "mimetype": "text/x-python",
   "name": "python",
   "nbconvert_exporter": "python",
   "pygments_lexer": "ipython3",
   "version": "3.8.8"
  }
 },
 "nbformat": 4,
 "nbformat_minor": 2
}